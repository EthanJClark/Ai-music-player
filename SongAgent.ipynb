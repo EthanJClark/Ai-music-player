{
 "cells": [
  {
   "cell_type": "code",
   "execution_count": 12,
   "id": "05468ce7",
   "metadata": {},
   "outputs": [],
   "source": [
    "import openai\n",
    "import os, time\n",
    "\n",
    "import dspy\n",
    "\n",
    "from dotenv import load_dotenv\n",
    "load_dotenv()\n",
    "\n",
    "from AiVoice import start_assistant\n",
    "from spotifyTest import get_random_saved_track, sp, play_track, search_for_song, change_volume"
   ]
  },
  {
   "cell_type": "code",
   "execution_count": 13,
   "id": "319749cc",
   "metadata": {},
   "outputs": [],
   "source": [
    "agent = dspy.LM(\"gpt-4\", api_key=os.getenv(\"OPENAI_API_KEY\"))  \n",
    "lm_agent = dspy.configure(lm = agent)"
   ]
  },
  {
   "cell_type": "code",
   "execution_count": 14,
   "id": "09d66f03",
   "metadata": {},
   "outputs": [
    {
     "name": "stdout",
     "output_type": "stream",
     "text": [
      "['Hello! How can I assist you today?']\n"
     ]
    }
   ],
   "source": [
    "print(agent(\"hello world!\"))"
   ]
  },
  {
   "cell_type": "code",
   "execution_count": 15,
   "id": "68768382",
   "metadata": {},
   "outputs": [],
   "source": [
    "class SongModule(dspy.Signature):\n",
    "    \"\"\"given a preference, return an item that matches the preference, search for the best match. do not play a song if a match cannot be found. if given a playlist or album, play that instead.\"\"\"\n",
    "    song_preferences: str = dspy.InputField()\n",
    "\n",
    "    item_title: str = dspy.OutputField()\n",
    "    item_artist: str = dspy.OutputField()\n",
    "    item_type: str = dspy.OutputField()  # \"track\", \"album\", or \"playlist\"\n",
    "\n",
    "    \n",
    "    item_uri: str = dspy.OutputField()\n",
    "    "
   ]
  },
  {
   "cell_type": "code",
   "execution_count": 16,
   "id": "edbb72d1",
   "metadata": {},
   "outputs": [],
   "source": [
    "def get_random_saved_track_wrapper():\n",
    "    track = get_random_saved_track(sp)\n",
    "    return track"
   ]
  },
  {
   "cell_type": "code",
   "execution_count": 17,
   "id": "f8ce5f04",
   "metadata": {},
   "outputs": [],
   "source": [
    "def play_playlist_or_album_wrapper(playlist_uri: str):\n",
    "    play_playlist_or_album(sp, playlist_uri)"
   ]
  },
  {
   "cell_type": "code",
   "execution_count": 18,
   "id": "8ec28de8",
   "metadata": {},
   "outputs": [],
   "source": [
    "def search_for_song_wrapper(song_name: str):\n",
    "    track = search_for_song(sp, song_name)\n",
    "    return track"
   ]
  },
  {
   "cell_type": "code",
   "execution_count": 19,
   "id": "7d3efddc",
   "metadata": {},
   "outputs": [],
   "source": [
    "def play_song(song_uri):\n",
    "    play_track(sp, song_uri)\n",
    "    "
   ]
  },
  {
   "cell_type": "code",
   "execution_count": 20,
   "id": "688c75c7",
   "metadata": {},
   "outputs": [],
   "source": [
    "song = dspy.ReAct(signature=SongModule, tools=[get_random_saved_track_wrapper, search_for_song_wrapper, ])"
   ]
  },
  {
   "cell_type": "markdown",
   "id": "97ba6448",
   "metadata": {},
   "source": []
  },
  {
   "cell_type": "code",
   "execution_count": 35,
   "id": "ce24211e",
   "metadata": {},
   "outputs": [
    {
     "name": "stdout",
     "output_type": "stream",
     "text": [
      "spotify:playlist:20WL4ioR8GFNEU0LITMpEe\n"
     ]
    }
   ],
   "source": [
    "sc = song(song_preferences = \"play something chill and lo-fi\")\n",
    "# print(sc)\n",
    "\n",
    "volume_rate = 7\n",
    "volume_incriment = 10\n",
    "\n",
    "for i in range(volume_rate):\n",
    "        change_volume(sp, -volume_incriment)\n",
    "\n",
    "\n",
    "start_assistant(f'now playing the {sc.item_type} {sc.item_title} by {sc.item_artist}')\n",
    "\n",
    "print(sc.item_uri)\n",
    "play_track(sp, sc.item_uri)\n",
    "time.sleep(0.5)\n",
    "\n",
    "\n",
    "\n",
    "for i in range(volume_rate):\n",
    "        change_volume(sp, volume_incriment)\n",
    "\n"
   ]
  },
  {
   "cell_type": "code",
   "execution_count": 22,
   "id": "067d19cf",
   "metadata": {},
   "outputs": [
    {
     "name": "stdout",
     "output_type": "stream",
     "text": [
      "Prediction(\n",
      "    trajectory={'thought_0': 'The user wants to listen to a Halloween playlist. I should search for a playlist that matches this description.', 'tool_name_0': 'search_for_song_wrapper', 'tool_args_0': {'song_name': 'halloween playlist'}, 'observation_0': {'songs': {'Goo Goo Muck': {'uri': 'spotify:track:3EEd6ldsPat620GVYMEhOP', 'artist': 'The Cramps'}, 'Halloween Holla Holla': {'uri': 'spotify:track:2OxvIuk4RmPmED9j2MYPv9', 'artist': \"Gabby's Dollhouse\"}, 'This Is Halloween': {'uri': 'spotify:track:3ZwLB2bhvpVp42V9NHJQoM', 'artist': 'Chantry Johnson'}}, 'albums': {'Halloween Motion Picture Soundtrack': {'uri': 'spotify:album:1eA3cq4WvDR4yVKChvZewP', 'artist': 'John Carpenter'}, 'Halloween Howls: Fun & Scary Music (Deluxe Edition)': {'uri': 'spotify:album:2kAB6U6XJQ9lXK7TPsmaR4', 'artist': 'Andrew Gold'}, 'Halloween Party Playlist': {'uri': 'spotify:album:1ZjgJeGfWlAls0ngGxjDU0', 'artist': 'Waya Spirit'}}, 'playlists': {'why are you so obsessed with halloween?': {'uri': 'spotify:playlist:6PnC6tI0J9bfeLnbG7IgBA', 'owner': 'lydia'}, 'Kids Halloween mix': {'uri': 'spotify:playlist:0oGK7xmyKLusOZ3j2x83IY', 'owner': 'nichole659'}}}, 'thought_1': 'The search results include several Halloween-themed playlists. The \"Kids Halloween mix\" playlist seems like a good fit for the user\\'s request.', 'tool_name_1': 'finish', 'tool_args_1': {}, 'observation_1': 'Completed.'},\n",
      "    reasoning='The user requested a Halloween playlist. The search results included a playlist titled \"Kids Halloween mix\" which seems to fit the user\\'s request.',\n",
      "    item_title='Kids Halloween mix',\n",
      "    item_artist='nichole659',\n",
      "    item_type='playlist',\n",
      "    item_uri='spotify:playlist:0oGK7xmyKLusOZ3j2x83IY'\n",
      ")\n"
     ]
    }
   ],
   "source": [
    "print(sc)"
   ]
  },
  {
   "cell_type": "code",
   "execution_count": null,
   "id": "5deef323",
   "metadata": {},
   "outputs": [],
   "source": []
  }
 ],
 "metadata": {
  "kernelspec": {
   "display_name": ".venv",
   "language": "python",
   "name": "python3"
  },
  "language_info": {
   "codemirror_mode": {
    "name": "ipython",
    "version": 3
   },
   "file_extension": ".py",
   "mimetype": "text/x-python",
   "name": "python",
   "nbconvert_exporter": "python",
   "pygments_lexer": "ipython3",
   "version": "3.13.7"
  }
 },
 "nbformat": 4,
 "nbformat_minor": 5
}
